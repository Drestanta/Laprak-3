{
 "cells": [
  {
   "cell_type": "code",
   "execution_count": 2,
   "id": "59924c10",
   "metadata": {},
   "outputs": [
    {
     "name": "stdout",
     "output_type": "stream",
     "text": [
      "Masukkan panjang sisi 1: 11\n",
      "Masukkan panjang sisi 2: 11\n",
      "Masukkan panjang sisi 3: 11\n",
      "3 sisi sama\n"
     ]
    }
   ],
   "source": [
    "try:\n",
    "    sisi1 = float(input(\"Masukkan panjang sisi 1: \"))\n",
    "    sisi2 = float(input(\"Masukkan panjang sisi 2: \"))\n",
    "    sisi3 = float(input(\"Masukkan panjang sisi 3: \"))\n",
    "    \n",
    "    if sisi1 == sisi2 == sisi3:\n",
    "        print(\"3 sisi sama\")\n",
    "    elif sisi1 == sisi2 or sisi1 == sisi3 or sisi2 == sisi3:\n",
    "        print(\"2 sisi sama\")\n",
    "    else:\n",
    "        print(\"Tidak ada yang sama\")\n",
    "except:\n",
    "    print(\"Input tidak valid.\")"
   ]
  },
  {
   "cell_type": "code",
   "execution_count": null,
   "id": "68cbd81c",
   "metadata": {},
   "outputs": [],
   "source": []
  }
 ],
 "metadata": {
  "kernelspec": {
   "display_name": "Python 3 (ipykernel)",
   "language": "python",
   "name": "python3"
  },
  "language_info": {
   "codemirror_mode": {
    "name": "ipython",
    "version": 3
   },
   "file_extension": ".py",
   "mimetype": "text/x-python",
   "name": "python",
   "nbconvert_exporter": "python",
   "pygments_lexer": "ipython3",
   "version": "3.9.13"
  }
 },
 "nbformat": 4,
 "nbformat_minor": 5
}
