{
 "cells": [
  {
   "cell_type": "code",
   "execution_count": 3,
   "id": "c326180f",
   "metadata": {},
   "outputs": [
    {
     "name": "stdout",
     "output_type": "stream",
     "text": [
      "Masukkan suatu bilangan: -90\n",
      "Negatif\n"
     ]
    }
   ],
   "source": [
    "try:\n",
    "    angka = int(input(\"Masukkan suatu bilangan: \"))\n",
    "    \n",
    "    if angka > 0:\n",
    "        print(\"Positif\")\n",
    "    elif angka < 0:\n",
    "        print(\"Negatif\")\n",
    "    else:\n",
    "        print(\"Nol\")\n",
    "\n",
    "except:\n",
    "    print(\"Error: Masukkan harus berupa bilangan bulat\")\n"
   ]
  },
  {
   "cell_type": "code",
   "execution_count": null,
   "id": "d567a3b6",
   "metadata": {},
   "outputs": [],
   "source": []
  },
  {
   "cell_type": "code",
   "execution_count": null,
   "id": "4f2089c4",
   "metadata": {},
   "outputs": [],
   "source": []
  },
  {
   "cell_type": "code",
   "execution_count": null,
   "id": "e60ebc8b",
   "metadata": {},
   "outputs": [],
   "source": []
  }
 ],
 "metadata": {
  "kernelspec": {
   "display_name": "Python 3 (ipykernel)",
   "language": "python",
   "name": "python3"
  },
  "language_info": {
   "codemirror_mode": {
    "name": "ipython",
    "version": 3
   },
   "file_extension": ".py",
   "mimetype": "text/x-python",
   "name": "python",
   "nbconvert_exporter": "python",
   "pygments_lexer": "ipython3",
   "version": "3.9.13"
  }
 },
 "nbformat": 4,
 "nbformat_minor": 5
}
