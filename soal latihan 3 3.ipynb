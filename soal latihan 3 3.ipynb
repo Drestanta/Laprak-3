{
 "cells": [
  {
   "cell_type": "code",
   "execution_count": 1,
   "id": "29a565ca",
   "metadata": {},
   "outputs": [
    {
     "name": "stdout",
     "output_type": "stream",
     "text": [
      "Masukkan nomor bulan (1-12): 12\n",
      "Jumlah hari: 31\n"
     ]
    }
   ],
   "source": [
    "def jumlah_hari(bulan):\n",
    "    if bulan == 2:\n",
    "        return 28\n",
    "    elif bulan in [4, 6, 9, 11]:\n",
    "        return 30\n",
    "    elif bulan in [1, 3, 5, 7, 8, 10, 12]:\n",
    "        return 31\n",
    "    else:\n",
    "        return None\n",
    "\n",
    "try:\n",
    "    input_bulan = int(input(\"Masukkan nomor bulan (1-12): \"))\n",
    "    \n",
    "    if 1 <= input_bulan <= 12:\n",
    "        hasil = jumlah_hari(input_bulan)\n",
    "        if hasil is not None:\n",
    "            print(f\"Jumlah hari: {hasil}\")\n",
    "        else:\n",
    "            print(\"Bulan tidak valid.\")\n",
    "    else:\n",
    "        print(\"Nomor bulan tidak valid.\")\n",
    "except:\n",
    "    print(\"Input yang anda masukkan salah\")"
   ]
  },
  {
   "cell_type": "code",
   "execution_count": null,
   "id": "e7d91655",
   "metadata": {},
   "outputs": [],
   "source": []
  }
 ],
 "metadata": {
  "kernelspec": {
   "display_name": "Python 3 (ipykernel)",
   "language": "python",
   "name": "python3"
  },
  "language_info": {
   "codemirror_mode": {
    "name": "ipython",
    "version": 3
   },
   "file_extension": ".py",
   "mimetype": "text/x-python",
   "name": "python",
   "nbconvert_exporter": "python",
   "pygments_lexer": "ipython3",
   "version": "3.9.13"
  }
 },
 "nbformat": 4,
 "nbformat_minor": 5
}
