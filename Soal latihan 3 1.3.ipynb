{
 "cells": [
  {
   "cell_type": "code",
   "execution_count": 2,
   "id": "9fde8098",
   "metadata": {},
   "outputs": [
    {
     "name": "stdout",
     "output_type": "stream",
     "text": [
      "Masukkan bilangan pertama: 11\n",
      "Masukkan bilangan kedua: 22\n",
      "Masukkan bilangan ketiga: 11\n",
      "Terbesar:  22\n"
     ]
    }
   ],
   "source": [
    "try:\n",
    "    bilangan1 = int(input(\"Masukkan bilangan pertama: \"))\n",
    "    bilangan2 = int(input(\"Masukkan bilangan kedua: \"))\n",
    "    bilangan3 = int(input(\"Masukkan bilangan ketiga: \"))\n",
    "\n",
    "    if bilangan1 > bilangan2 and bilangan1 > bilangan3:\n",
    "        print(\"Terbesar: \", bilangan1)\n",
    "    elif bilangan2 > bilangan1 and bilangan2 > bilangan3:\n",
    "        print(\"Terbesar: \", bilangan2)\n",
    "    elif bilangan3 > bilangan1 and bilangan3 > bilangan2:\n",
    "        print(\"Terbesar: \", bilangan3)\n",
    "    elif bilangan1 == bilangan2 == bilangan3:\n",
    "        print(\"Semua sama besar: \", bilangan1)\n",
    "\n",
    "except:\n",
    "    print(\"Input tidak valid.\")"
   ]
  },
  {
   "cell_type": "code",
   "execution_count": null,
   "id": "bade5c96",
   "metadata": {},
   "outputs": [],
   "source": []
  }
 ],
 "metadata": {
  "kernelspec": {
   "display_name": "Python 3 (ipykernel)",
   "language": "python",
   "name": "python3"
  },
  "language_info": {
   "codemirror_mode": {
    "name": "ipython",
    "version": 3
   },
   "file_extension": ".py",
   "mimetype": "text/x-python",
   "name": "python",
   "nbconvert_exporter": "python",
   "pygments_lexer": "ipython3",
   "version": "3.9.13"
  }
 },
 "nbformat": 4,
 "nbformat_minor": 5
}
